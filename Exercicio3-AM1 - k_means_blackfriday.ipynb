{
 "cells": [
  {
   "cell_type": "code",
   "execution_count": 1,
   "metadata": {},
   "outputs": [],
   "source": [
    "import numpy as np\n",
    "import pandas as pd\n",
    "from sklearn.preprocessing import MinMaxScaler\n",
    "#from sklearn.cross_validation import train_test_split\n",
    "from sklearn.model_selection import train_test_split\n",
    "#Import datasets\n",
    "from sklearn import datasets\n",
    "import seaborn as sns"
   ]
  },
  {
   "cell_type": "code",
   "execution_count": 2,
   "metadata": {},
   "outputs": [],
   "source": [
    "from IPython.core.interactiveshell import InteractiveShell\n",
    "InteractiveShell.ast_node_interactive=\"all\""
   ]
  },
  {
   "cell_type": "code",
   "execution_count": 3,
   "metadata": {},
   "outputs": [],
   "source": [
    "f = pd.read_csv(\"D:/temp/black_friday_editado.csv\")"
   ]
  },
  {
   "cell_type": "code",
   "execution_count": 4,
   "metadata": {},
   "outputs": [],
   "source": [
    "f.head()\n",
    "f = f.sample(5000)"
   ]
  },
  {
   "cell_type": "code",
   "execution_count": 5,
   "metadata": {},
   "outputs": [
    {
     "data": {
      "text/html": [
       "<div>\n",
       "<style scoped>\n",
       "    .dataframe tbody tr th:only-of-type {\n",
       "        vertical-align: middle;\n",
       "    }\n",
       "\n",
       "    .dataframe tbody tr th {\n",
       "        vertical-align: top;\n",
       "    }\n",
       "\n",
       "    .dataframe thead th {\n",
       "        text-align: right;\n",
       "    }\n",
       "</style>\n",
       "<table border=\"1\" class=\"dataframe\">\n",
       "  <thead>\n",
       "    <tr style=\"text-align: right;\">\n",
       "      <th></th>\n",
       "      <th>cidade</th>\n",
       "      <th>total_comprado</th>\n",
       "      <th>nova_idade</th>\n",
       "    </tr>\n",
       "  </thead>\n",
       "  <tbody>\n",
       "    <tr>\n",
       "      <th>101675</th>\n",
       "      <td>B</td>\n",
       "      <td>15662</td>\n",
       "      <td>21</td>\n",
       "    </tr>\n",
       "    <tr>\n",
       "      <th>39766</th>\n",
       "      <td>C</td>\n",
       "      <td>8720</td>\n",
       "      <td>33</td>\n",
       "    </tr>\n",
       "    <tr>\n",
       "      <th>181677</th>\n",
       "      <td>B</td>\n",
       "      <td>10072</td>\n",
       "      <td>30</td>\n",
       "    </tr>\n",
       "    <tr>\n",
       "      <th>272206</th>\n",
       "      <td>A</td>\n",
       "      <td>4690</td>\n",
       "      <td>49</td>\n",
       "    </tr>\n",
       "    <tr>\n",
       "      <th>209506</th>\n",
       "      <td>B</td>\n",
       "      <td>359</td>\n",
       "      <td>29</td>\n",
       "    </tr>\n",
       "  </tbody>\n",
       "</table>\n",
       "</div>"
      ],
      "text/plain": [
       "       cidade  total_comprado  nova_idade\n",
       "101675      B           15662          21\n",
       "39766       C            8720          33\n",
       "181677      B           10072          30\n",
       "272206      A            4690          49\n",
       "209506      B             359          29"
      ]
     },
     "execution_count": 5,
     "metadata": {},
     "output_type": "execute_result"
    }
   ],
   "source": [
    "df=f.drop([\"usuario\", \"produto\",\"sexo\",\"idade\",\"profissao\",\"anos_cidade\",\"cat_prod_1\",\"cat_prod_3\",\"estado_civil\"], axis=1)\n",
    "df.head()"
   ]
  },
  {
   "cell_type": "code",
   "execution_count": 6,
   "metadata": {},
   "outputs": [
    {
     "data": {
      "text/html": [
       "<div>\n",
       "<style scoped>\n",
       "    .dataframe tbody tr th:only-of-type {\n",
       "        vertical-align: middle;\n",
       "    }\n",
       "\n",
       "    .dataframe tbody tr th {\n",
       "        vertical-align: top;\n",
       "    }\n",
       "\n",
       "    .dataframe thead th {\n",
       "        text-align: right;\n",
       "    }\n",
       "</style>\n",
       "<table border=\"1\" class=\"dataframe\">\n",
       "  <thead>\n",
       "    <tr style=\"text-align: right;\">\n",
       "      <th></th>\n",
       "      <th>total_comprado</th>\n",
       "      <th>nova_idade</th>\n",
       "    </tr>\n",
       "  </thead>\n",
       "  <tbody>\n",
       "    <tr>\n",
       "      <th>101675</th>\n",
       "      <td>15662</td>\n",
       "      <td>21</td>\n",
       "    </tr>\n",
       "    <tr>\n",
       "      <th>39766</th>\n",
       "      <td>8720</td>\n",
       "      <td>33</td>\n",
       "    </tr>\n",
       "    <tr>\n",
       "      <th>181677</th>\n",
       "      <td>10072</td>\n",
       "      <td>30</td>\n",
       "    </tr>\n",
       "    <tr>\n",
       "      <th>272206</th>\n",
       "      <td>4690</td>\n",
       "      <td>49</td>\n",
       "    </tr>\n",
       "    <tr>\n",
       "      <th>209506</th>\n",
       "      <td>359</td>\n",
       "      <td>29</td>\n",
       "    </tr>\n",
       "  </tbody>\n",
       "</table>\n",
       "</div>"
      ],
      "text/plain": [
       "        total_comprado  nova_idade\n",
       "101675           15662          21\n",
       "39766             8720          33\n",
       "181677           10072          30\n",
       "272206            4690          49\n",
       "209506             359          29"
      ]
     },
     "execution_count": 6,
     "metadata": {},
     "output_type": "execute_result"
    }
   ],
   "source": [
    "x_train = df.drop('cidade',axis=1)\n",
    "x_train.head()"
   ]
  },
  {
   "cell_type": "code",
   "execution_count": 7,
   "metadata": {},
   "outputs": [
    {
     "data": {
      "text/html": [
       "<div>\n",
       "<style scoped>\n",
       "    .dataframe tbody tr th:only-of-type {\n",
       "        vertical-align: middle;\n",
       "    }\n",
       "\n",
       "    .dataframe tbody tr th {\n",
       "        vertical-align: top;\n",
       "    }\n",
       "\n",
       "    .dataframe thead th {\n",
       "        text-align: right;\n",
       "    }\n",
       "</style>\n",
       "<table border=\"1\" class=\"dataframe\">\n",
       "  <thead>\n",
       "    <tr style=\"text-align: right;\">\n",
       "      <th></th>\n",
       "      <th>Cluster_Numbers</th>\n",
       "      <th>Error_Term</th>\n",
       "    </tr>\n",
       "  </thead>\n",
       "  <tbody>\n",
       "    <tr>\n",
       "      <th>0</th>\n",
       "      <td>2</td>\n",
       "      <td>3.551714e+08</td>\n",
       "    </tr>\n",
       "    <tr>\n",
       "      <th>1</th>\n",
       "      <td>3</td>\n",
       "      <td>1.746477e+08</td>\n",
       "    </tr>\n",
       "    <tr>\n",
       "      <th>2</th>\n",
       "      <td>4</td>\n",
       "      <td>1.037693e+08</td>\n",
       "    </tr>\n",
       "    <tr>\n",
       "      <th>3</th>\n",
       "      <td>5</td>\n",
       "      <td>6.021491e+07</td>\n",
       "    </tr>\n",
       "    <tr>\n",
       "      <th>4</th>\n",
       "      <td>6</td>\n",
       "      <td>3.707464e+07</td>\n",
       "    </tr>\n",
       "    <tr>\n",
       "      <th>5</th>\n",
       "      <td>7</td>\n",
       "      <td>2.619128e+07</td>\n",
       "    </tr>\n",
       "    <tr>\n",
       "      <th>6</th>\n",
       "      <td>8</td>\n",
       "      <td>1.918023e+07</td>\n",
       "    </tr>\n",
       "    <tr>\n",
       "      <th>7</th>\n",
       "      <td>9</td>\n",
       "      <td>1.491595e+07</td>\n",
       "    </tr>\n",
       "    <tr>\n",
       "      <th>8</th>\n",
       "      <td>10</td>\n",
       "      <td>1.091701e+07</td>\n",
       "    </tr>\n",
       "    <tr>\n",
       "      <th>9</th>\n",
       "      <td>11</td>\n",
       "      <td>8.977923e+06</td>\n",
       "    </tr>\n",
       "    <tr>\n",
       "      <th>10</th>\n",
       "      <td>12</td>\n",
       "      <td>7.840212e+06</td>\n",
       "    </tr>\n",
       "  </tbody>\n",
       "</table>\n",
       "</div>"
      ],
      "text/plain": [
       "    Cluster_Numbers    Error_Term\n",
       "0                 2  3.551714e+08\n",
       "1                 3  1.746477e+08\n",
       "2                 4  1.037693e+08\n",
       "3                 5  6.021491e+07\n",
       "4                 6  3.707464e+07\n",
       "5                 7  2.619128e+07\n",
       "6                 8  1.918023e+07\n",
       "7                 9  1.491595e+07\n",
       "8                10  1.091701e+07\n",
       "9                11  8.977923e+06\n",
       "10               12  7.840212e+06"
      ]
     },
     "execution_count": 7,
     "metadata": {},
     "output_type": "execute_result"
    }
   ],
   "source": [
    "from sklearn.cluster import KMeans\n",
    "num_of_clusters = range(2,13)\n",
    "error=[]\n",
    "\n",
    "for num_clusters in num_of_clusters:\n",
    "    clusters = KMeans(num_clusters)\n",
    "    #clusters.fit(df_scld)\n",
    "    clusters.fit(x_train)\n",
    "    error.append(clusters.inertia_/100)\n",
    "df = pd.DataFrame({\"Cluster_Numbers\": num_of_clusters, \"Error_Term\":error})\n",
    "df"
   ]
  },
  {
   "cell_type": "code",
   "execution_count": 8,
   "metadata": {},
   "outputs": [
    {
     "data": {
      "image/png": "[encoded data removed]",
      "text/plain": [
       "<Figure size 1080x720 with 1 Axes>"
      ]
     },
     "metadata": {
      "needs_background": "light"
     },
     "output_type": "display_data"
    }
   ],
   "source": [
    "import matplotlib.pyplot as plt\n",
    "plt.figure(figsize=(15,10))\n",
    "plt.plot(df.Cluster_Numbers, df.Error_Term, marker = \"D\", color = 'red')\n",
    "plt.xlabel('Number of Clusters')\n",
    "plt.ylabel('SSE')\n",
    "plt.title('Find the optimal number of cluster')\n",
    "plt.show()"
   ]
  },
  {
   "cell_type": "code",
   "execution_count": 9,
   "metadata": {},
   "outputs": [
    {
     "data": {
      "text/plain": [
       "array([1, 0, 3, ..., 0, 0, 1])"
      ]
     },
     "execution_count": 9,
     "metadata": {},
     "output_type": "execute_result"
    }
   ],
   "source": [
    "clusters = KMeans(4)\n",
    "clusters.fit(x_train)\n",
    "clusters.labels_"
   ]
  },
  {
   "cell_type": "code",
   "execution_count": 10,
   "metadata": {},
   "outputs": [
    {
     "name": "stdout",
     "output_type": "stream",
     "text": [
      "        total_comprado  nova_idade  Cluster\n",
      "101675           15662          21        1\n",
      "39766             8720          33        0\n",
      "181677           10072          30        3\n",
      "272206            4690          49        2\n",
      "209506             359          29        2\n",
      "101675    1\n",
      "39766     0\n",
      "181677    3\n",
      "272206    2\n",
      "209506    2\n",
      "255640    1\n",
      "240259    0\n",
      "53956     2\n",
      "346876    0\n",
      "302381    2\n",
      "153423    0\n",
      "226738    0\n",
      "45824     1\n",
      "445464    1\n",
      "527637    0\n",
      "514517    0\n",
      "473618    2\n",
      "413287    3\n",
      "529947    1\n",
      "349428    3\n",
      "142821    0\n",
      "402031    1\n",
      "418522    1\n",
      "215400    0\n",
      "145821    3\n",
      "140467    3\n",
      "342652    0\n",
      "322349    0\n",
      "27045     0\n",
      "50688     1\n",
      "         ..\n",
      "135188    2\n",
      "409055    0\n",
      "122275    3\n",
      "94535     3\n",
      "492035    0\n",
      "288826    1\n",
      "2577      0\n",
      "429906    0\n",
      "504700    3\n",
      "416411    0\n",
      "307064    2\n",
      "500477    1\n",
      "358226    0\n",
      "54584     2\n",
      "45399     1\n",
      "467639    3\n",
      "274319    1\n",
      "139686    3\n",
      "458469    2\n",
      "499571    3\n",
      "72515     3\n",
      "481778    0\n",
      "336367    3\n",
      "55653     2\n",
      "382219    0\n",
      "369242    3\n",
      "461845    0\n",
      "377834    0\n",
      "335652    0\n",
      "182052    1\n",
      "Name: Cluster, Length: 5000, dtype: int32\n"
     ]
    }
   ],
   "source": [
    "x_train['Cluster'] = clusters.labels_\n",
    "print(x_train.head())\n",
    "print(x_train['Cluster'])"
   ]
  },
  {
   "cell_type": "code",
   "execution_count": 11,
   "metadata": {},
   "outputs": [
    {
     "data": {
      "text/plain": [
       "Cluster\n",
       "0    2123\n",
       "1    1057\n",
       "2     840\n",
       "3     980\n",
       "dtype: int64"
      ]
     },
     "execution_count": 11,
     "metadata": {},
     "output_type": "execute_result"
    }
   ],
   "source": [
    "x_train.groupby(\"Cluster\").size()"
   ]
  },
  {
   "cell_type": "code",
   "execution_count": 12,
   "metadata": {},
   "outputs": [
    {
     "data": {
      "text/html": [
       "<div>\n",
       "<style scoped>\n",
       "    .dataframe tbody tr th:only-of-type {\n",
       "        vertical-align: middle;\n",
       "    }\n",
       "\n",
       "    .dataframe tbody tr th {\n",
       "        vertical-align: top;\n",
       "    }\n",
       "\n",
       "    .dataframe thead th {\n",
       "        text-align: right;\n",
       "    }\n",
       "</style>\n",
       "<table border=\"1\" class=\"dataframe\">\n",
       "  <thead>\n",
       "    <tr style=\"text-align: right;\">\n",
       "      <th></th>\n",
       "      <th>nova_idade</th>\n",
       "      <th>total_comprado</th>\n",
       "    </tr>\n",
       "    <tr>\n",
       "      <th>Cluster</th>\n",
       "      <th></th>\n",
       "      <th></th>\n",
       "    </tr>\n",
       "  </thead>\n",
       "  <tbody>\n",
       "    <tr>\n",
       "      <th>0</th>\n",
       "      <td>34.59</td>\n",
       "      <td>7085.67</td>\n",
       "    </tr>\n",
       "    <tr>\n",
       "      <th>1</th>\n",
       "      <td>34.43</td>\n",
       "      <td>17365.15</td>\n",
       "    </tr>\n",
       "    <tr>\n",
       "      <th>2</th>\n",
       "      <td>34.11</td>\n",
       "      <td>3030.79</td>\n",
       "    </tr>\n",
       "    <tr>\n",
       "      <th>3</th>\n",
       "      <td>34.82</td>\n",
       "      <td>11236.46</td>\n",
       "    </tr>\n",
       "  </tbody>\n",
       "</table>\n",
       "</div>"
      ],
      "text/plain": [
       "         nova_idade  total_comprado\n",
       "Cluster                            \n",
       "0             34.59         7085.67\n",
       "1             34.43        17365.15\n",
       "2             34.11         3030.79\n",
       "3             34.82        11236.46"
      ]
     },
     "execution_count": 12,
     "metadata": {},
     "output_type": "execute_result"
    }
   ],
   "source": [
    "clust_profile = pd.pivot_table(x_train, values=['total_comprado','nova_idade'],index='Cluster',aggfunc=np.mean)\n",
    "np.round(clust_profile,2)"
   ]
  },
  {
   "cell_type": "markdown",
   "metadata": {},
   "source": [
    "média por grupo"
   ]
  },
  {
   "cell_type": "code",
   "execution_count": 13,
   "metadata": {},
   "outputs": [
    {
     "name": "stdout",
     "output_type": "stream",
     "text": [
      "[1 0 3 ... 0 2 1]\n",
      "4\n"
     ]
    }
   ],
   "source": [
    "kmeans = KMeans(n_clusters = 4, max_iter = 5, random_state = 5)\n",
    "y_kmeans = kmeans.fit_predict(x_train)\n",
    "print(y_kmeans)\n",
    "print(kmeans.n_iter_)"
   ]
  },
  {
   "cell_type": "code",
   "execution_count": 14,
   "metadata": {},
   "outputs": [
    {
     "name": "stdout",
     "output_type": "stream",
     "text": [
      "[[15662    21     1]\n",
      " [ 8720    33     0]\n",
      " [10072    30     3]\n",
      " ...\n",
      " [ 6887    46     0]\n",
      " [ 5393    31     0]\n",
      " [16019    42     1]]\n"
     ]
    }
   ],
   "source": [
    "x_train_arr = x_train.values\n",
    "print(x_train_arr)"
   ]
  },
  {
   "cell_type": "code",
   "execution_count": 15,
   "metadata": {},
   "outputs": [
    {
     "data": {
      "image/png": "[encoded data removed]",
      "text/plain": [
       "<Figure size 432x288 with 1 Axes>"
      ]
     },
     "metadata": {
      "needs_background": "light"
     },
     "output_type": "display_data"
    }
   ],
   "source": [
    "plt.scatter(x_train_arr[y_kmeans == 0, 0], x_train_arr[y_kmeans == 0, 1], s = 100, c = 'red', label = 'Grupo 1')\n",
    "plt.scatter(x_train_arr[y_kmeans == 1, 0], x_train_arr[y_kmeans == 1, 1], s = 100, c = 'blue', label = 'Grupo 2')\n",
    "plt.scatter(x_train_arr[y_kmeans == 2, 0], x_train_arr[y_kmeans == 2, 1], s = 100, c = 'green', label = 'Grupo 3')\n",
    "plt.scatter(x_train_arr[y_kmeans == 3, 0], x_train_arr[y_kmeans == 3, 1], s = 100, c = 'gray', label = 'Grupo 4')\n",
    "\n",
    "#Plotting the centroids of the clusters\n",
    "plt.scatter(kmeans.cluster_centers_[:, 0], kmeans.cluster_centers_[:,1], s = 100, c = 'yellow', label = 'Centroids')\n",
    "plt.xlabel(\"total_comprado\")\n",
    "plt.ylabel(\"idade\")\n",
    "plt.title(\"K-means\")\n",
    "\n",
    "plt.legend()\n",
    "plt.show()"
   ]
  }
 ],
 "metadata": {
  "kernelspec": {
   "display_name": "Python 3",
   "language": "python",
   "name": "python3"
  },
  "language_info": {
   "codemirror_mode": {
    "name": "ipython",
    "version": 3
   },
   "file_extension": ".py",
   "mimetype": "text/x-python",
   "name": "python",
   "nbconvert_exporter": "python",
   "pygments_lexer": "ipython3",
   "version": "3.7.3"
  }
 },
 "nbformat": 4,
 "nbformat_minor": 4
}
